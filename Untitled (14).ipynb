{
 "cells": [
  {
   "cell_type": "code",
   "execution_count": 1,
   "id": "5f60d85b-9fe3-4166-9322-45f4ccbf4b57",
   "metadata": {},
   "outputs": [],
   "source": [
    "## 1\n",
    "from scipy.stats import f\n",
    "\n",
    "def variance_ratio_test(data1, data2):\n",
    "    f_value, p_value = f(data1.var(ddof=1), data2.var(ddof=1), len(data1)-1, len(data2)-1)\n",
    "    return f_value, p_value\n",
    "##2 \n",
    "from scipy.stats import f\n",
    "\n",
    "def critical_f_value(alpha, dfn, dfd):\n",
    "    return f.ppf(1 - alpha/2, dfn, dfd)\n",
    "##3\n",
    "from scipy.stats import f\n",
    "\n",
    "def equal_var_test(data1, data2):\n",
    "    f_value = data1.var() / data2.var()\n",
    "    dfn = len(data1) - 1\n",
    "    dfd = len(data2) - 1\n",
    "    p_value = 2 * min(f.cdf(f_value, dfn, dfd), 1 - f.cdf(f_value, dfn, dfd))\n",
    "    return f_value, dfn, dfd, p_value\n",
    "##4\n",
    "from scipy.stats import f\n",
    "\n",
    "def f_test_known_variances(variance1, variance2, n1, n2, alpha=0.05):\n",
    "    f_critical = f.ppf(1 - alpha/2, n1-1, n2-1)\n",
    "    f_observed = variance1 / variance2\n",
    "    return f_observed, f_critical, f_observed > f_critical\n",
    "## 5\n",
    "from scipy.stats import f\n",
    "\n",
    "def f_test_variance_claim(variance_sample, variance_claim, n, alpha=0.01):\n",
    "    f_critical = f.ppf(1 - alpha, n-1, n-1)\n",
    "    f_observed = variance_sample / variance_claim\n",
    "    return f_observed, f_critical, f_observed <= f_critical\n",
    "## 6\n",
    "def f_distribution_params(dfn, dfd):\n",
    "    mean = dfd / (dfd - 2)\n",
    "    variance = (2 * (dfd**2) * (dfn + dfd - 2)) / (dfn * ((dfd - 2)**2) * (dfd - 4))\n",
    "    return mean, variance\n",
    "## 7\n",
    "from scipy.stats import f\n",
    "\n",
    "def f_test_unknown_variances(sample_variance1, sample_variance2, n1, n2, alpha=0.1):\n",
    "    f_critical = f.ppf(1 - alpha, n1-1, n2-1)\n",
    "    f_observed = sample_variance1 / sample_variance2\n",
    "    return f_observed, f_critical, f_observed > f_critical\n",
    "## 8\n",
    "from scipy.stats import f\n",
    "\n",
    "def f_test_waiting_times(data1, data2, alpha=0.05):\n",
    "    f_critical = f.ppf(1 - alpha, len(data1)-1, len(data2)-1)\n",
    "    f_observed = data1.var() / data2.var()\n",
    "    return f_observed, f_critical, f_observed > f_critical\n",
    "## 9\n"
   ]
  },
  {
   "cell_type": "code",
   "execution_count": null,
   "id": "5416a121-43df-472f-b3fe-870120170e71",
   "metadata": {},
   "outputs": [],
   "source": []
  }
 ],
 "metadata": {
  "kernelspec": {
   "display_name": "Python 3 (ipykernel)",
   "language": "python",
   "name": "python3"
  },
  "language_info": {
   "codemirror_mode": {
    "name": "ipython",
    "version": 3
   },
   "file_extension": ".py",
   "mimetype": "text/x-python",
   "name": "python",
   "nbconvert_exporter": "python",
   "pygments_lexer": "ipython3",
   "version": "3.10.8"
  }
 },
 "nbformat": 4,
 "nbformat_minor": 5
}
